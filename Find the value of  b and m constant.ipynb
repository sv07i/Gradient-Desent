{
 "cells": [
  {
   "cell_type": "code",
   "execution_count": 19,
   "id": "618b56a3",
   "metadata": {},
   "outputs": [],
   "source": [
    "from sklearn.datasets import make_regression\n",
    "import matplotlib.pyplot as plt\n",
    "import numpy as np"
   ]
  },
  {
   "cell_type": "code",
   "execution_count": 20,
   "id": "76563dd7",
   "metadata": {},
   "outputs": [],
   "source": [
    "x,y = make_regression(n_samples = 100,n_features = 1,n_informative =1,n_targets = 1,noise = 20 )"
   ]
  },
  {
   "cell_type": "code",
   "execution_count": 21,
   "id": "f52f323a",
   "metadata": {},
   "outputs": [
    {
     "data": {
      "text/plain": [
       "<matplotlib.collections.PathCollection at 0x2775ed5a4c0>"
      ]
     },
     "execution_count": 21,
     "metadata": {},
     "output_type": "execute_result"
    },
    {
     "data": {
      "image/png": "[encoded data removed]",
      "text/plain": [
       "<Figure size 432x288 with 1 Axes>"
      ]
     },
     "metadata": {
      "needs_background": "light"
     },
     "output_type": "display_data"
    }
   ],
   "source": [
    "plt.scatter(x,y)"
   ]
  },
  {
   "cell_type": "code",
   "execution_count": 22,
   "id": "3826129f",
   "metadata": {},
   "outputs": [],
   "source": [
    "from sklearn.linear_model import LinearRegression"
   ]
  },
  {
   "cell_type": "code",
   "execution_count": 23,
   "id": "ad008291",
   "metadata": {},
   "outputs": [],
   "source": [
    "lr =LinearRegression()"
   ]
  },
  {
   "cell_type": "code",
   "execution_count": 24,
   "id": "8a577a47",
   "metadata": {},
   "outputs": [
    {
     "name": "stdout",
     "output_type": "stream",
     "text": [
      "[22.68731847]\n",
      "3.096008113544132\n"
     ]
    }
   ],
   "source": [
    "lr.fit(x,y)\n",
    "print(lr.coef_)\n",
    "print(lr.intercept_)"
   ]
  },
  {
   "cell_type": "code",
   "execution_count": 25,
   "id": "1da919d2",
   "metadata": {},
   "outputs": [],
   "source": [
    "m=22.68"
   ]
  },
  {
   "cell_type": "code",
   "execution_count": 39,
   "id": "b19096da",
   "metadata": {},
   "outputs": [],
   "source": [
    "class GDRegressior:\n",
    "    def __init__(self,learning_Rate,epochs):\n",
    "        self.m = 22.68\n",
    "        self.b = -120\n",
    "        self.lr = learning_Rate\n",
    "        self.epochs = epochs \n",
    "        \n",
    "    def fit(self,x,y):\n",
    "        for i in range(self.epochs):\n",
    "            loss_slope = -2* np.sum(y-self.m*x.ravel()-self.b) \n",
    "            self.b = self.b - (self.lr * loss_slope)\n",
    "            #print(loss_slope,self.b)\n",
    "        print(self.b)   \n",
    "                        "
   ]
  },
  {
   "cell_type": "code",
   "execution_count": 40,
   "id": "78082e99",
   "metadata": {},
   "outputs": [],
   "source": [
    "gd = GDRegressior(0.001,100)        "
   ]
  },
  {
   "cell_type": "code",
   "execution_count": 41,
   "id": "cfe6538a",
   "metadata": {},
   "outputs": [
    {
     "name": "stdout",
     "output_type": "stream",
     "text": [
      "3.0955856730780016\n"
     ]
    }
   ],
   "source": [
    "gd.fit(x,y)"
   ]
  },
  {
   "cell_type": "code",
   "execution_count": null,
   "id": "9021e390",
   "metadata": {},
   "outputs": [],
   "source": []
  },
  {
   "cell_type": "code",
   "execution_count": null,
   "id": "de66b490",
   "metadata": {},
   "outputs": [],
   "source": []
  }
 ],
 "metadata": {
  "kernelspec": {
   "display_name": "Python 3 (ipykernel)",
   "language": "python",
   "name": "python3"
  },
  "language_info": {
   "codemirror_mode": {
    "name": "ipython",
    "version": 3
   },
   "file_extension": ".py",
   "mimetype": "text/x-python",
   "name": "python",
   "nbconvert_exporter": "python",
   "pygments_lexer": "ipython3",
   "version": "3.9.7"
  }
 },
 "nbformat": 4,
 "nbformat_minor": 5
}
